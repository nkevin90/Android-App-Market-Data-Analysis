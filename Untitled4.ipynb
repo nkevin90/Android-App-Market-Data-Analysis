{
  "nbformat": 4,
  "nbformat_minor": 0,
  "metadata": {
    "colab": {
      "name": "Untitled4.ipynb",
      "provenance": [],
      "authorship_tag": "ABX9TyOH+KwIlgxss8Yu4pHFXj3k",
      "include_colab_link": true
    },
    "kernelspec": {
      "name": "python3",
      "display_name": "Python 3"
    },
    "language_info": {
      "name": "python"
    }
  },
  "cells": [
    {
      "cell_type": "markdown",
      "metadata": {
        "id": "view-in-github",
        "colab_type": "text"
      },
      "source": [
        "<a href=\"https://colab.research.google.com/github/nkevin90/Android-App-Market-Data-Analysis/blob/main/Untitled4.ipynb\" target=\"_parent\"><img src=\"https://colab.research.google.com/assets/colab-badge.svg\" alt=\"Open In Colab\"/></a>"
      ]
    },
    {
      "cell_type": "markdown",
      "source": [
        "# Prompt a user to input their age and nationality tell them whether they can vote or not"
      ],
      "metadata": {
        "id": "MuUyY2fpf2R_"
      }
    },
    {
      "cell_type": "code",
      "execution_count": 34,
      "metadata": {
        "colab": {
          "base_uri": "https://localhost:8080/"
        },
        "id": "nNybp1PCYfu7",
        "outputId": "a265d75c-d4c6-4454-e756-08583e9054ba"
      },
      "outputs": [
        {
          "output_type": "stream",
          "name": "stdout",
          "text": [
            "KIndly Enter your age 18\n",
            "Enter your nationality KENYAN\n",
            "Youre Eligible to vote\n"
          ]
        }
      ],
      "source": [
        "#Variables declaration\n",
        "Age=int(input('Kindly Enter your age '))\n",
        "Nationality=str(input('Enter your nationality ').lower())\n",
        "#conditial if else statement\n",
        "if Age>=18 and Nationality ==\"kenyan\":\n",
        "  #output to be printed if the user is eligible to vote\n",
        "  print('Youre Eligible to vote')\n",
        "else:\n",
        "  #output to be shown if the user age is less than 18 years and is not of the kenyan nationality\n",
        "  print('You do not meet all the requirements needed for one to vote')"
      ]
    },
    {
      "cell_type": "markdown",
      "source": [
        ""
      ],
      "metadata": {
        "id": "0JGseGYnfdWt"
      }
    },
    {
      "cell_type": "markdown",
      "source": [
        "# Data structures Examples"
      ],
      "metadata": {
        "id": "p6sju5J-g6Jj"
      }
    },
    {
      "cell_type": "code",
      "source": [
        "#Lists \n",
        "Fruits=['Pineapples','Oranges','Bananas','Grapes', 'Apples']\n",
        "print('lists of fruits: ',Fruits)\n",
        "Fruits.append('Mangoes')\n",
        "print(Fruits)\n",
        "print(type(Fruits))\n",
        "\n",
        "\n",
        "#Tuples\n",
        "Cars=('Benz','Toyota','Range Rover','Subaru','Audi','Volkswagon')\n",
        "print('Tuples: ',Cars)\n",
        "print(type(Cars))\n",
        "\n",
        "Address='kelvinnjenga@image.co.ke'\n",
        "username, domain= Address.split('@')\n",
        "print(username)\n",
        "print(domain)\n",
        "\n",
        "\n",
        "#Dictionaries\n",
        "FamilyMembers={'Name':'Kelvin Njenga','Age':22,'Location':'Nairobi','School':'Kabarak University'}\n",
        "print('Dictionaries :',FamilyMembers)\n",
        "type(FamilyMembers)\n",
        "new=FamilyMembers.get('Location')\n",
        "print(new)\n",
        "Check=FamilyMembers.keys()\n",
        "print(Check)\n",
        "FamilyMembers.update({'YOB':2000})\n",
        "print(FamilyMembers)\n",
        "\n",
        "\n",
        "#Sets\n",
        "a=set([1,2,3,4,5,6,7])\n",
        "b=set([2,4,5,6,7,9,10,15,20])\n",
        "print(b.union(a))\n",
        "print(type(a))\n",
        "\n"
      ],
      "metadata": {
        "colab": {
          "base_uri": "https://localhost:8080/"
        },
        "id": "4RcWsmThhGA9",
        "outputId": "99348333-2eee-40c1-a199-12fa682d6aad"
      },
      "execution_count": 82,
      "outputs": [
        {
          "output_type": "stream",
          "name": "stdout",
          "text": [
            "lists of fruits:  ['Pineapples', 'Oranges', 'Bananas', 'Grapes', 'Apples']\n",
            "['Pineapples', 'Oranges', 'Bananas', 'Grapes', 'Apples', 'Mangoes']\n",
            "<class 'list'>\n",
            "Tuples:  ('Benz', 'Toyota', 'Range Rover', 'Subaru', 'Audi', 'Volkswagon')\n",
            "<class 'tuple'>\n",
            "kelvinnjenga\n",
            "image.co.ke\n",
            "Dictionaries : {'Name': 'Kelvin Njenga', 'Age': 22, 'Location': 'Nairobi', 'School': 'Kabarak University'}\n",
            "Nairobi\n",
            "dict_keys(['Name', 'Age', 'Location', 'School'])\n",
            "{'Name': 'Kelvin Njenga', 'Age': 22, 'Location': 'Nairobi', 'School': 'Kabarak University', 'YOB': 2000}\n",
            "{1, 2, 3, 4, 5, 6, 7, 9, 10, 15, 20}\n",
            "<class 'set'>\n"
          ]
        }
      ]
    }
  ]
}